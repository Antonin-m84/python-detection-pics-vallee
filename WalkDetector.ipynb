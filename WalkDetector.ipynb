{
 "cells": [
  {
   "cell_type": "code",
   "execution_count": 1,
   "id": "e23b50ec-438a-4188-b588-3d29d0fcc480",
   "metadata": {},
   "outputs": [],
   "source": [
    "import numpy as np\n",
    "import pandas as pd\n",
    "\n",
    "# Charger les données du fichier texte en ignorant les 44 premières lignes\n",
    "file_path = 'D:/Documents/Mémoire/Data John Doe/John Doe gaitway 3D locomotion_W7.txt'\n",
    "data = pd.read_csv(file_path, skiprows=44, delimiter='\\t')\n",
    "\n",
    "# Extraire les colonnes temps et signal\n",
    "time = data.iloc[:, 0].values\n",
    "signal = data.iloc[:, 19].values"
   ]
  },
  {
   "cell_type": "code",
   "execution_count": 2,
   "id": "f466cd9d-bb2b-4f26-9629-b9339d3aee6c",
   "metadata": {},
   "outputs": [],
   "source": [
    "# Appliquer une moyenne mobile (window=21, center=True)\n",
    "signal_series = pd.Series(signal)\n",
    "moving_average = signal_series.rolling(window=21, center=True).mean().values\n",
    "\n",
    "# Définir les seuils avant et après la ligne 8500\n",
    "thresholds = {\n",
    "    \"before_8500\": {\"peak\": 1.935, \"valley\": 1.9235},\n",
    "    \"after_8500\": {\"peak\": 1.9425, \"valley\": 1.929}\n",
    "}\n",
    "\n",
    "# Détection des pics et des vallées\n",
    "peaks = []\n",
    "valleys = []\n",
    "window_size = 150\n",
    "\n",
    "for i in range(len(moving_average) - window_size):\n",
    "    window = moving_average[i:i + window_size]\n",
    "    time_window = time[i:i + window_size]\n",
    "\n",
    "    # Déterminer les seuils en fonction de la ligne actuelle\n",
    "    if i < 8500:\n",
    "        peak_threshold = thresholds[\"before_8500\"][\"peak\"]\n",
    "        valley_threshold = thresholds[\"before_8500\"][\"valley\"]\n",
    "    else:\n",
    "        peak_threshold = thresholds[\"after_8500\"][\"peak\"]\n",
    "        valley_threshold = thresholds[\"after_8500\"][\"valley\"]\n",
    "\n",
    "    # Détecter les pics et les vallées dans la fenêtre\n",
    "    max_val = np.max(window)\n",
    "    min_val = np.min(window)\n",
    "    max_index = np.argmax(window)\n",
    "    min_index = np.argmin(window)\n",
    "\n",
    "    # Vérifier les conditions de pics et vallées (pic>seuil and vallée<seuil and pic_avant_vallée and fenêtré)\n",
    "    if (max_val >= peak_threshold and min_val <= valley_threshold and\n",
    "            max_index < min_index and min_index - max_index < 150 and\n",
    "            max_val - min_val > 0.0125):\n",
    "        peaks.append((time_window[max_index], max_val))\n",
    "        valleys.append((time_window[min_index], min_val))"
   ]
  },
  {
   "cell_type": "code",
   "execution_count": 3,
   "id": "ee219c9e-cef7-489e-8259-6d408c177314",
   "metadata": {},
   "outputs": [],
   "source": [
    "# Créer un DataFrame pour les pics et les vallées\n",
    "peaks_df = pd.DataFrame(peaks, columns=['Time', 'Value'])\n",
    "valleys_df = pd.DataFrame(valleys, columns=['Time', 'Value'])"
   ]
  },
  {
   "cell_type": "code",
   "execution_count": 16,
   "id": "90ba4b4f-6f0b-4592-acbc-bff79e468e18",
   "metadata": {},
   "outputs": [],
   "source": [
    "# Calculer la différence de temps entre les pics/vallées consécutifs\n",
    "peaks_df['Time_Diff'] = peaks_df['Time'].diff()\n",
    "valleys_df['Time_Diff'] = valleys_df['Time'].diff()"
   ]
  },
  {
   "cell_type": "code",
   "execution_count": 18,
   "id": "22e61f53-1cd8-4a07-8f84-16ea58be289d",
   "metadata": {},
   "outputs": [],
   "source": [
    "# Filtrer les DataFrames pour ne conserver que les lignes où la différence de temps est supérieure à 0.3\n",
    "peaks_df = peaks_df[peaks_df['Time_Diff'] > 0.3]\n",
    "valleys_df = valleys_df[valleys_df['Time_Diff'] > 0.3]"
   ]
  },
  {
   "cell_type": "code",
   "execution_count": 21,
   "id": "d8629753-eeb1-49ee-a1da-2ca01b31173a",
   "metadata": {},
   "outputs": [],
   "source": [
    "# Ajouter le nombre de pics et vallées trouvés\n",
    "peaks_count = len(peaks_df)\n",
    "valleys_count = len(valleys_df)"
   ]
  },
  {
   "cell_type": "code",
   "execution_count": 22,
   "id": "b32e5def-c729-4e2f-9717-a71b0fa2fdeb",
   "metadata": {},
   "outputs": [
    {
     "name": "stdout",
     "output_type": "stream",
     "text": [
      "Nombre de pics : 40\n",
      "Nombre de vallées : 40\n",
      "Detection complète, résultats sauvegardés dans detected_patterns.xlsx\n"
     ]
    }
   ],
   "source": [
    "# Créer un fichier Excel et ajouter les données\n",
    "with pd.ExcelWriter('detected_patterns_W7.xlsx') as writer:\n",
    "    peaks_df.to_excel(writer, sheet_name='Peaks', index=False)\n",
    "    valleys_df.to_excel(writer, sheet_name='Valleys', index=False)\n",
    "\n",
    "print(f'Nombre de pics : {peaks_count}')\n",
    "print(f'Nombre de vallées : {valleys_count}')\n",
    "print(\"Detection complète, résultats sauvegardés dans detected_patterns.xlsx\")"
   ]
  },
  {
   "cell_type": "code",
   "execution_count": null,
   "id": "2b1226cc-b01e-421c-bb97-9d46d1d84392",
   "metadata": {},
   "outputs": [],
   "source": []
  },
  {
   "cell_type": "code",
   "execution_count": null,
   "id": "ca4ff714-60e3-4124-bb15-fe096f21251b",
   "metadata": {},
   "outputs": [],
   "source": []
  }
 ],
 "metadata": {
  "kernelspec": {
   "display_name": "Python 3 (ipykernel)",
   "language": "python",
   "name": "python3"
  },
  "language_info": {
   "codemirror_mode": {
    "name": "ipython",
    "version": 3
   },
   "file_extension": ".py",
   "mimetype": "text/x-python",
   "name": "python",
   "nbconvert_exporter": "python",
   "pygments_lexer": "ipython3",
   "version": "3.12.4"
  }
 },
 "nbformat": 4,
 "nbformat_minor": 5
}
